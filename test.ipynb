{
 "cells": [
  {
   "cell_type": "code",
   "execution_count": 97,
   "id": "957d3a94",
   "metadata": {},
   "outputs": [
    {
     "name": "stdout",
     "output_type": "stream",
     "text": [
      "Requirement already satisfied: pandas in ./tdsenv/lib/python3.12/site-packages (2.2.3)\n",
      "Requirement already satisfied: numpy>=1.26.0 in ./tdsenv/lib/python3.12/site-packages (from pandas) (2.2.5)\n",
      "Requirement already satisfied: python-dateutil>=2.8.2 in ./tdsenv/lib/python3.12/site-packages (from pandas) (2.9.0.post0)\n",
      "Requirement already satisfied: pytz>=2020.1 in ./tdsenv/lib/python3.12/site-packages (from pandas) (2025.2)\n",
      "Requirement already satisfied: tzdata>=2022.7 in ./tdsenv/lib/python3.12/site-packages (from pandas) (2025.2)\n",
      "Requirement already satisfied: six>=1.5 in ./tdsenv/lib/python3.12/site-packages (from python-dateutil>=2.8.2->pandas) (1.17.0)\n"
     ]
    }
   ],
   "source": [
    "!pip install pandas\n",
    "import pandas as pd"
   ]
  },
  {
   "cell_type": "code",
   "execution_count": 101,
   "id": "2ef3d069",
   "metadata": {},
   "outputs": [],
   "source": [
    "import numpy as np\n",
    "import json\n",
    "from pprint import pprint"
   ]
  },
  {
   "cell_type": "code",
   "execution_count": 40,
   "id": "10aaab49",
   "metadata": {},
   "outputs": [],
   "source": [
    "file_path = \"/mnt/c/Users/vikas/Downloads/ecom.txt\"\n",
    "\n",
    "with open(file_path, 'r') as file:\n",
    "    json_array = file.read()\n",
    "\n",
    "data = json.loads(json_array)\n",
    "df = pd.DataFrame(data)\n"
   ]
  },
  {
   "cell_type": "code",
   "execution_count": 55,
   "id": "7e34c8fe",
   "metadata": {},
   "outputs": [],
   "source": [
    "df2 = df[df[\"price\"]<84.97].sort_values(by = [\"category\", \"price\", \"name\"], axis=0, ascending=[1,0,1])"
   ]
  },
  {
   "cell_type": "code",
   "execution_count": 44,
   "id": "f641d027",
   "metadata": {},
   "outputs": [
    {
     "data": {
      "text/html": [
       "<div>\n",
       "<style scoped>\n",
       "    .dataframe tbody tr th:only-of-type {\n",
       "        vertical-align: middle;\n",
       "    }\n",
       "\n",
       "    .dataframe tbody tr th {\n",
       "        vertical-align: top;\n",
       "    }\n",
       "\n",
       "    .dataframe thead th {\n",
       "        text-align: right;\n",
       "    }\n",
       "</style>\n",
       "<table border=\"1\" class=\"dataframe\">\n",
       "  <thead>\n",
       "    <tr style=\"text-align: right;\">\n",
       "      <th></th>\n",
       "      <th>category</th>\n",
       "      <th>name</th>\n",
       "    </tr>\n",
       "    <tr>\n",
       "      <th>price</th>\n",
       "      <th></th>\n",
       "      <th></th>\n",
       "    </tr>\n",
       "  </thead>\n",
       "  <tbody>\n",
       "    <tr>\n",
       "      <th>20.21</th>\n",
       "      <td>1</td>\n",
       "      <td>1</td>\n",
       "    </tr>\n",
       "    <tr>\n",
       "      <th>26.98</th>\n",
       "      <td>1</td>\n",
       "      <td>1</td>\n",
       "    </tr>\n",
       "    <tr>\n",
       "      <th>30.90</th>\n",
       "      <td>1</td>\n",
       "      <td>1</td>\n",
       "    </tr>\n",
       "    <tr>\n",
       "      <th>32.11</th>\n",
       "      <td>1</td>\n",
       "      <td>1</td>\n",
       "    </tr>\n",
       "    <tr>\n",
       "      <th>39.02</th>\n",
       "      <td>1</td>\n",
       "      <td>1</td>\n",
       "    </tr>\n",
       "    <tr>\n",
       "      <th>...</th>\n",
       "      <td>...</td>\n",
       "      <td>...</td>\n",
       "    </tr>\n",
       "    <tr>\n",
       "      <th>192.52</th>\n",
       "      <td>1</td>\n",
       "      <td>1</td>\n",
       "    </tr>\n",
       "    <tr>\n",
       "      <th>192.88</th>\n",
       "      <td>1</td>\n",
       "      <td>1</td>\n",
       "    </tr>\n",
       "    <tr>\n",
       "      <th>194.43</th>\n",
       "      <td>1</td>\n",
       "      <td>1</td>\n",
       "    </tr>\n",
       "    <tr>\n",
       "      <th>195.48</th>\n",
       "      <td>1</td>\n",
       "      <td>1</td>\n",
       "    </tr>\n",
       "    <tr>\n",
       "      <th>196.42</th>\n",
       "      <td>1</td>\n",
       "      <td>1</td>\n",
       "    </tr>\n",
       "  </tbody>\n",
       "</table>\n",
       "<p>99 rows × 2 columns</p>\n",
       "</div>"
      ],
      "text/plain": [
       "        category  name\n",
       "price                 \n",
       "20.21          1     1\n",
       "26.98          1     1\n",
       "30.90          1     1\n",
       "32.11          1     1\n",
       "39.02          1     1\n",
       "...          ...   ...\n",
       "192.52         1     1\n",
       "192.88         1     1\n",
       "194.43         1     1\n",
       "195.48         1     1\n",
       "196.42         1     1\n",
       "\n",
       "[99 rows x 2 columns]"
      ]
     },
     "execution_count": 44,
     "metadata": {},
     "output_type": "execute_result"
    }
   ],
   "source": [
    "df.groupby(\"price\").count()"
   ]
  },
  {
   "cell_type": "code",
   "execution_count": 96,
   "id": "e99d0981",
   "metadata": {},
   "outputs": [
    {
     "name": "stdout",
     "output_type": "stream",
     "text": [
      "('[{\"category\":\"Apparel\",\"price\":77.93,\"name\":\"Smart '\n",
      " 'Gadget\"},{\"category\":\"Apparel\",\"price\":75.56,\"name\":\"Mini '\n",
      " 'Tool\"},{\"category\":\"Apparel\",\"price\":48.79,\"name\":\"Mini '\n",
      " 'Device\"},{\"category\":\"Apparel\",\"price\":47.09,\"name\":\"Deluxe '\n",
      " 'Item\"},{\"category\":\"Apparel\",\"price\":39.02,\"name\":\"Deluxe '\n",
      " 'Gadget\"},{\"category\":\"Apparel\",\"price\":26.98,\"name\":\"Pro '\n",
      " 'Device\"},{\"category\":\"Books\",\"price\":82.67,\"name\":\"Ultra '\n",
      " 'Device\"},{\"category\":\"Books\",\"price\":73.75,\"name\":\"Pro '\n",
      " 'Set\"},{\"category\":\"Books\",\"price\":73.2,\"name\":\"Pro '\n",
      " 'Widget\"},{\"category\":\"Books\",\"price\":69.09,\"name\":\"Mini '\n",
      " 'Set\"},{\"category\":\"Books\",\"price\":65.94,\"name\":\"Mini '\n",
      " 'Device\"},{\"category\":\"Books\",\"price\":64.69,\"name\":\"Mini '\n",
      " 'Kit\"},{\"category\":\"Books\",\"price\":56.73,\"name\":\"Deluxe '\n",
      " 'Tool\"},{\"category\":\"Books\",\"price\":41.16,\"name\":\"Ultra '\n",
      " 'Set\"},{\"category\":\"Books\",\"price\":40.12,\"name\":\"Super '\n",
      " 'Gadget\"},{\"category\":\"Electronics\",\"price\":83.49,\"name\":\"Deluxe '\n",
      " 'Set\"},{\"category\":\"Electronics\",\"price\":76.65,\"name\":\"Ultra '\n",
      " 'Item\"},{\"category\":\"Electronics\",\"price\":61.63,\"name\":\"Super '\n",
      " 'Set\"},{\"category\":\"Electronics\",\"price\":32.11,\"name\":\"Super '\n",
      " 'Kit\"},{\"category\":\"Home\",\"price\":74.32,\"name\":\"Super '\n",
      " 'Device\"},{\"category\":\"Home\",\"price\":64.43,\"name\":\"Deluxe '\n",
      " 'Item\"},{\"category\":\"Home\",\"price\":58.34,\"name\":\"Deluxe '\n",
      " 'Device\"},{\"category\":\"Home\",\"price\":57.61,\"name\":\"Deluxe '\n",
      " 'Widget\"},{\"category\":\"Home\",\"price\":51.47,\"name\":\"Eco '\n",
      " 'Widget\"},{\"category\":\"Home\",\"price\":42.64,\"name\":\"Ultra '\n",
      " 'Item\"},{\"category\":\"Home\",\"price\":20.21,\"name\":\"Smart '\n",
      " 'Kit\"},{\"category\":\"Toys\",\"price\":81.9,\"name\":\"Deluxe '\n",
      " 'Tool\"},{\"category\":\"Toys\",\"price\":66.59,\"name\":\"Super '\n",
      " 'Gadget\"},{\"category\":\"Toys\",\"price\":62.21,\"name\":\"Ultra '\n",
      " 'Gadget\"},{\"category\":\"Toys\",\"price\":51.99,\"name\":\"Pro '\n",
      " 'Gadget\"},{\"category\":\"Toys\",\"price\":50.53,\"name\":\"Ultra '\n",
      " 'Item\"},{\"category\":\"Toys\",\"price\":48.53,\"name\":\"Ultra '\n",
      " 'Widget\"},{\"category\":\"Toys\",\"price\":43.88,\"name\":\"Deluxe '\n",
      " 'Tool\"},{\"category\":\"Toys\",\"price\":30.9,\"name\":\"Ultra Widget\"}]')\n"
     ]
    }
   ],
   "source": [
    "pprint(df2.to_json(orient=\"records\"))"
   ]
  },
  {
   "cell_type": "code",
   "execution_count": 100,
   "id": "79d92e2c",
   "metadata": {},
   "outputs": [],
   "source": [
    "file_path1 = \"/mnt/c/Users/vikas/Downloads/config_new.json\"\n",
    "file_path2 = \"/mnt/c/Users/vikas/Downloads/config_old.json\"\n"
   ]
  },
  {
   "cell_type": "code",
   "execution_count": 102,
   "id": "cc6e9268",
   "metadata": {},
   "outputs": [],
   "source": [
    "with open(file_path1, \"r\") as file:\n",
    "    data1 = file.read()\n",
    "\n",
    "with open(file_path2, \"r\") as file:\n",
    "    data2 = file.read()\n",
    "    \n",
    "json1 = json.loads(data1)\n"
   ]
  },
  {
   "cell_type": "code",
   "execution_count": null,
   "id": "0cb5a238",
   "metadata": {},
   "outputs": [],
   "source": []
  }
 ],
 "metadata": {
  "kernelspec": {
   "display_name": "tdsenv",
   "language": "python",
   "name": "python3"
  },
  "language_info": {
   "codemirror_mode": {
    "name": "ipython",
    "version": 3
   },
   "file_extension": ".py",
   "mimetype": "text/x-python",
   "name": "python",
   "nbconvert_exporter": "python",
   "pygments_lexer": "ipython3",
   "version": "3.12.3"
  }
 },
 "nbformat": 4,
 "nbformat_minor": 5
}
