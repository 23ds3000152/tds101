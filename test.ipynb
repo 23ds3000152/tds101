{
 "cells": [
  {
   "cell_type": "code",
   "execution_count": null,
   "id": "957d3a94",
   "metadata": {},
   "outputs": [
    {
     "name": "stdout",
     "output_type": "stream",
     "text": [
      "Requirement already satisfied: pandas in ./tdsenv/lib/python3.12/site-packages (2.2.3)\n",
      "Requirement already satisfied: numpy>=1.26.0 in ./tdsenv/lib/python3.12/site-packages (from pandas) (2.2.5)\n",
      "Requirement already satisfied: python-dateutil>=2.8.2 in ./tdsenv/lib/python3.12/site-packages (from pandas) (2.9.0.post0)\n",
      "Requirement already satisfied: pytz>=2020.1 in ./tdsenv/lib/python3.12/site-packages (from pandas) (2025.2)\n",
      "Requirement already satisfied: tzdata>=2022.7 in ./tdsenv/lib/python3.12/site-packages (from pandas) (2025.2)\n",
      "Requirement already satisfied: six>=1.5 in ./tdsenv/lib/python3.12/site-packages (from python-dateutil>=2.8.2->pandas) (1.17.0)\n"
     ]
    }
   ],
   "source": [
    "!pip install pandas\n",
    "import pandas as pd"
   ]
  },
  {
   "cell_type": "code",
   "execution_count": 101,
   "id": "2ef3d069",
   "metadata": {},
   "outputs": [],
   "source": [
    "import numpy as np\n",
    "import json\n",
    "from pprint import pprint"
   ]
  },
  {
   "cell_type": "code",
   "execution_count": 40,
   "id": "10aaab49",
   "metadata": {},
   "outputs": [],
   "source": [
    "file_path = \"/mnt/c/Users/vikas/Downloads/ecom.txt\"\n",
    "\n",
    "with open(file_path, 'r') as file:\n",
    "    json_array = file.read()\n",
    "\n",
    "data = json.loads(json_array)\n",
    "df = pd.DataFrame(data)\n"
   ]
  },
  {
   "cell_type": "code",
   "execution_count": 55,
   "id": "7e34c8fe",
   "metadata": {},
   "outputs": [],
   "source": [
    "df2 = df[df[\"price\"]<84.97].sort_values(by = [\"category\", \"price\", \"name\"], axis=0, ascending=[1,0,1])"
   ]
  },
  {
   "cell_type": "code",
   "execution_count": 44,
   "id": "f641d027",
   "metadata": {},
   "outputs": [
    {
     "data": {
      "text/html": [
       "<div>\n",
       "<style scoped>\n",
       "    .dataframe tbody tr th:only-of-type {\n",
       "        vertical-align: middle;\n",
       "    }\n",
       "\n",
       "    .dataframe tbody tr th {\n",
       "        vertical-align: top;\n",
       "    }\n",
       "\n",
       "    .dataframe thead th {\n",
       "        text-align: right;\n",
       "    }\n",
       "</style>\n",
       "<table border=\"1\" class=\"dataframe\">\n",
       "  <thead>\n",
       "    <tr style=\"text-align: right;\">\n",
       "      <th></th>\n",
       "      <th>category</th>\n",
       "      <th>name</th>\n",
       "    </tr>\n",
       "    <tr>\n",
       "      <th>price</th>\n",
       "      <th></th>\n",
       "      <th></th>\n",
       "    </tr>\n",
       "  </thead>\n",
       "  <tbody>\n",
       "    <tr>\n",
       "      <th>20.21</th>\n",
       "      <td>1</td>\n",
       "      <td>1</td>\n",
       "    </tr>\n",
       "    <tr>\n",
       "      <th>26.98</th>\n",
       "      <td>1</td>\n",
       "      <td>1</td>\n",
       "    </tr>\n",
       "    <tr>\n",
       "      <th>30.90</th>\n",
       "      <td>1</td>\n",
       "      <td>1</td>\n",
       "    </tr>\n",
       "    <tr>\n",
       "      <th>32.11</th>\n",
       "      <td>1</td>\n",
       "      <td>1</td>\n",
       "    </tr>\n",
       "    <tr>\n",
       "      <th>39.02</th>\n",
       "      <td>1</td>\n",
       "      <td>1</td>\n",
       "    </tr>\n",
       "    <tr>\n",
       "      <th>...</th>\n",
       "      <td>...</td>\n",
       "      <td>...</td>\n",
       "    </tr>\n",
       "    <tr>\n",
       "      <th>192.52</th>\n",
       "      <td>1</td>\n",
       "      <td>1</td>\n",
       "    </tr>\n",
       "    <tr>\n",
       "      <th>192.88</th>\n",
       "      <td>1</td>\n",
       "      <td>1</td>\n",
       "    </tr>\n",
       "    <tr>\n",
       "      <th>194.43</th>\n",
       "      <td>1</td>\n",
       "      <td>1</td>\n",
       "    </tr>\n",
       "    <tr>\n",
       "      <th>195.48</th>\n",
       "      <td>1</td>\n",
       "      <td>1</td>\n",
       "    </tr>\n",
       "    <tr>\n",
       "      <th>196.42</th>\n",
       "      <td>1</td>\n",
       "      <td>1</td>\n",
       "    </tr>\n",
       "  </tbody>\n",
       "</table>\n",
       "<p>99 rows × 2 columns</p>\n",
       "</div>"
      ],
      "text/plain": [
       "        category  name\n",
       "price                 \n",
       "20.21          1     1\n",
       "26.98          1     1\n",
       "30.90          1     1\n",
       "32.11          1     1\n",
       "39.02          1     1\n",
       "...          ...   ...\n",
       "192.52         1     1\n",
       "192.88         1     1\n",
       "194.43         1     1\n",
       "195.48         1     1\n",
       "196.42         1     1\n",
       "\n",
       "[99 rows x 2 columns]"
      ]
     },
     "execution_count": 44,
     "metadata": {},
     "output_type": "execute_result"
    }
   ],
   "source": [
    "df.groupby(\"price\").count()"
   ]
  },
  {
   "cell_type": "code",
   "execution_count": 96,
   "id": "e99d0981",
   "metadata": {},
   "outputs": [
    {
     "name": "stdout",
     "output_type": "stream",
     "text": [
      "('[{\"category\":\"Apparel\",\"price\":77.93,\"name\":\"Smart '\n",
      " 'Gadget\"},{\"category\":\"Apparel\",\"price\":75.56,\"name\":\"Mini '\n",
      " 'Tool\"},{\"category\":\"Apparel\",\"price\":48.79,\"name\":\"Mini '\n",
      " 'Device\"},{\"category\":\"Apparel\",\"price\":47.09,\"name\":\"Deluxe '\n",
      " 'Item\"},{\"category\":\"Apparel\",\"price\":39.02,\"name\":\"Deluxe '\n",
      " 'Gadget\"},{\"category\":\"Apparel\",\"price\":26.98,\"name\":\"Pro '\n",
      " 'Device\"},{\"category\":\"Books\",\"price\":82.67,\"name\":\"Ultra '\n",
      " 'Device\"},{\"category\":\"Books\",\"price\":73.75,\"name\":\"Pro '\n",
      " 'Set\"},{\"category\":\"Books\",\"price\":73.2,\"name\":\"Pro '\n",
      " 'Widget\"},{\"category\":\"Books\",\"price\":69.09,\"name\":\"Mini '\n",
      " 'Set\"},{\"category\":\"Books\",\"price\":65.94,\"name\":\"Mini '\n",
      " 'Device\"},{\"category\":\"Books\",\"price\":64.69,\"name\":\"Mini '\n",
      " 'Kit\"},{\"category\":\"Books\",\"price\":56.73,\"name\":\"Deluxe '\n",
      " 'Tool\"},{\"category\":\"Books\",\"price\":41.16,\"name\":\"Ultra '\n",
      " 'Set\"},{\"category\":\"Books\",\"price\":40.12,\"name\":\"Super '\n",
      " 'Gadget\"},{\"category\":\"Electronics\",\"price\":83.49,\"name\":\"Deluxe '\n",
      " 'Set\"},{\"category\":\"Electronics\",\"price\":76.65,\"name\":\"Ultra '\n",
      " 'Item\"},{\"category\":\"Electronics\",\"price\":61.63,\"name\":\"Super '\n",
      " 'Set\"},{\"category\":\"Electronics\",\"price\":32.11,\"name\":\"Super '\n",
      " 'Kit\"},{\"category\":\"Home\",\"price\":74.32,\"name\":\"Super '\n",
      " 'Device\"},{\"category\":\"Home\",\"price\":64.43,\"name\":\"Deluxe '\n",
      " 'Item\"},{\"category\":\"Home\",\"price\":58.34,\"name\":\"Deluxe '\n",
      " 'Device\"},{\"category\":\"Home\",\"price\":57.61,\"name\":\"Deluxe '\n",
      " 'Widget\"},{\"category\":\"Home\",\"price\":51.47,\"name\":\"Eco '\n",
      " 'Widget\"},{\"category\":\"Home\",\"price\":42.64,\"name\":\"Ultra '\n",
      " 'Item\"},{\"category\":\"Home\",\"price\":20.21,\"name\":\"Smart '\n",
      " 'Kit\"},{\"category\":\"Toys\",\"price\":81.9,\"name\":\"Deluxe '\n",
      " 'Tool\"},{\"category\":\"Toys\",\"price\":66.59,\"name\":\"Super '\n",
      " 'Gadget\"},{\"category\":\"Toys\",\"price\":62.21,\"name\":\"Ultra '\n",
      " 'Gadget\"},{\"category\":\"Toys\",\"price\":51.99,\"name\":\"Pro '\n",
      " 'Gadget\"},{\"category\":\"Toys\",\"price\":50.53,\"name\":\"Ultra '\n",
      " 'Item\"},{\"category\":\"Toys\",\"price\":48.53,\"name\":\"Ultra '\n",
      " 'Widget\"},{\"category\":\"Toys\",\"price\":43.88,\"name\":\"Deluxe '\n",
      " 'Tool\"},{\"category\":\"Toys\",\"price\":30.9,\"name\":\"Ultra Widget\"}]')\n"
     ]
    }
   ],
   "source": [
    "pprint(df2.to_json(orient=\"records\"))"
   ]
  },
  {
   "cell_type": "code",
   "execution_count": 100,
   "id": "79d92e2c",
   "metadata": {},
   "outputs": [],
   "source": [
    "file_path1 = \"/mnt/c/Users/vikas/Downloads/config_new.json\"\n",
    "file_path2 = \"/mnt/c/Users/vikas/Downloads/config_old.json\"\n"
   ]
  },
  {
   "cell_type": "code",
   "execution_count": 104,
   "id": "cc6e9268",
   "metadata": {},
   "outputs": [],
   "source": [
    "with open(file_path1, \"r\") as file:\n",
    "    data1 = file.read()\n",
    "\n",
    "with open(file_path2, \"r\") as file:\n",
    "    data2 = file.read()\n",
    "    \n",
    "json1 = json.loads(data1)\n",
    "json2 = json.loads(data2)"
   ]
  },
  {
   "cell_type": "code",
   "execution_count": 112,
   "id": "0cb5a238",
   "metadata": {},
   "outputs": [],
   "source": [
    "df3 = pd.DataFrame(json1)\n",
    "df4 = pd.DataFrame(json2)"
   ]
  },
  {
   "cell_type": "code",
   "execution_count": 126,
   "id": "6f091102",
   "metadata": {},
   "outputs": [],
   "source": [
    "df5 = df3.join(df4.set_index(\"key\"), on = \"key\", lsuffix=\"A\", rsuffix=\"B\", how= \"left\")"
   ]
  },
  {
   "cell_type": "code",
   "execution_count": 130,
   "id": "5ee5fe70",
   "metadata": {},
   "outputs": [
    {
     "data": {
      "text/plain": [
       "21"
      ]
     },
     "execution_count": 130,
     "metadata": {},
     "output_type": "execute_result"
    }
   ],
   "source": [
    "len(df5[df5[\"valueA\"]!=df5[\"valueB\"]])\n"
   ]
  },
  {
   "cell_type": "code",
   "execution_count": 151,
   "id": "370af397",
   "metadata": {},
   "outputs": [
    {
     "name": "stdout",
     "output_type": "stream",
     "text": [
      "/mnt/c/Users/vikas/Downloads/q-multi-cursor-json (1).txt\n",
      "/mnt/c/Users/vikas/Downloads/q-multi-cursor-json.txt\n"
     ]
    }
   ],
   "source": [
    "!find \"/mnt/c/Users/vikas/Downloads/\" -name '*multi-cursor*.*' "
   ]
  },
  {
   "cell_type": "code",
   "execution_count": 171,
   "id": "bd0bc787",
   "metadata": {},
   "outputs": [
    {
     "name": "stdout",
     "output_type": "stream",
     "text": [
      "4=KsjY8r\n",
      "6=Le\n",
      "VmV=jcp\n",
      "svQ4=4yvL\n",
      "ju=SI\n",
      "VRXqHu=e\n",
      "mGxgE=H\n",
      "zeEKr=Lk4vXwY\n",
      "T=LHzXEGSg\n",
      "ZfLKJSy=E0ym\n",
      "xBkjqB=D\n",
      "uv=BD\n",
      "QU=0FG8yK0kD\n",
      "tJdYn=JuGmw5OgY\n",
      "NZDBITzfEr=R1G\n",
      "StiEvGePf=BEDt8qraDr\n",
      "IbJhhMPiZ=fjdKlBtjb1\n",
      "GKilydD=Y4U\n",
      "hWQa4Rrz=LYr\n",
      "jnh2ZiXT=JxUENBDt\n",
      "18oGCz5U=vScug9T0f\n",
      "fHOLs=rs7rS3\n",
      "e=rxBI\n",
      "BICcb8=aqIOzBju2\n",
      "Al=4P\n",
      "9CihN=UTolyHV\n",
      "q0QJd=no4L2SOKIS\n",
      "gqTkn=lBS\n",
      "LiSf=Z934KlvjeH\n",
      "IbYVilerjl=8ftJysN0Bw\n",
      "xDhqK=5Pmkb0a\n",
      "IxZAiCU=FrWkvzHzbr\n",
      "3fppgD77S=cx\n",
      "5TPFy74=t0eaFRk\n",
      "LhqgyZp=1xsoRX8Xx\n",
      "n=KN\n",
      "DKPC3mblBc=Er4F\n",
      "iY=t17\n",
      "Ae7RTh=0fo\n",
      "yXiIHER=nlJ6wwI7lR\n",
      "k9maI2J=IkZfYhM4\n",
      "k2Tu=fGDSCX48\n",
      "lV8VbLcGWP=hh1s\n",
      "K=1thiSTJ51R\n",
      "z4J4CFVjG=nshWan5m35\n",
      "H4V1NK40b=izfVBSpg\n",
      "W=iv1CT6RR7z\n",
      "zOt21TrAp=5jf3\n",
      "SKvm=aez\n",
      "imRFZOd=zNsaYF\n",
      "7ZXDN9u=AXOz\n",
      "ATTf1U=uVK\n",
      "23mDj1ODV=CLb\n",
      "x6OHZ=k\n",
      "0SO0E=v\n",
      "piZy=nLyQ\n",
      "trAQv=2Fr\n",
      "VoYAOrWp2W=KnWago\n",
      "655UZJ=Jmvsj3YZ\n",
      "8u5FEq9=9bnX\n",
      "wIN=GjZxb5cmVc\n",
      "N2Z26Vydt=pUCdeYzr5\n",
      "SzORFOG=SbH\n",
      "j2Zx0bN=3f\n",
      "I=9VaKdmU6Ny\n",
      "mN189B9T2O=jn\n",
      "kOnlcXrwF4=2q66WuZs\n",
      "kJEB=gEm6wWXc\n",
      "Si=MYXXph\n",
      "Mhtu8NpnTv=EFM2PYD62\n",
      "mgNNNr=FUiV\n",
      "YuqoieyhS=ZR24m\n",
      "6NMC=Z8iJIS\n",
      "Z2=V9LfJPtNAH\n",
      "Aa5FF=2R7Wr5SngU\n",
      "hv0s22lL=BMzdGXhSeN\n",
      "KIlRYdq8l=Go1iYx\n",
      "KaR5NU7=7\n",
      "fdws4P=OjVBVE\n",
      "RHcXoAlf=sOxG\n",
      "VYhQpr0e1=cg6K47\n",
      "G=VNmzyaL\n",
      "Tq5pOruZN=56g44\n",
      "yIIejLl=nnrZ\n",
      "e7FoSTh=aJE15QG8N\n",
      "6TO=GC\n",
      "7LsV=G8unBSd\n",
      "BAZe=BnB0\n",
      "Z7=afv\n",
      "Si6sG=oW\n",
      "4SXieL=DpD7G2dhJk\n",
      "kCpR5oM43=M\n",
      "LKUB=jhzcYXRHSS\n",
      "RPJDHMP1bj=3wA8l\n",
      "mibkHJL=n1D3Z3D\n",
      "eNi0xWqte=U41P6\n",
      "HEMTJQYzoD=JOvF3\n",
      "r01Ke=5NramrG9ny\n",
      "ldqQ1qOp8=XtAb"
     ]
    }
   ],
   "source": [
    "!cat \"/mnt/c/Users/vikas/Downloads/q-multi-cursor-json (1).txt\""
   ]
  },
  {
   "cell_type": "code",
   "execution_count": null,
   "id": "bdf8194a",
   "metadata": {},
   "outputs": [
    {
     "name": "stdout",
     "output_type": "stream",
     "text": [
      "Overwriting kv_to_json_array.sh\n"
     ]
    }
   ],
   "source": [
    "%%writefile kv_to_json_array.sh\n",
    "#!/bin/bash\n",
    "\n",
    "input_file=\"$1\"\n",
    "\n",
    "echo \"{\"\n",
    "\n",
    "first=1\n",
    "while IFS= read -r line\n",
    "do\n",
    "    # Skip empty lines\n",
    "    [[ -z \"$line\" ]] && continue\n",
    "\n",
    "    # Split line into key and value\n",
    "    key=\"${line%%=*}\"\n",
    "    value=\"${line#*=}\"\n",
    "\n",
    "    # Print comma before every element except the first\n",
    "    if [[ $first -eq 1 ]]; then\n",
    "        first=0\n",
    "    else\n",
    "        echo \", \"\n",
    "    fi\n",
    "\n",
    "    # Output JSON object\n",
    "    echo -n \"\\\"$key\\\": \\\"$value\\\"\"\n",
    "done < \"$input_file\"\n",
    "\n",
    "echo\n",
    "echo \"}\"\n"
   ]
  },
  {
   "cell_type": "code",
   "execution_count": 167,
   "id": "4537d782",
   "metadata": {},
   "outputs": [],
   "source": [
    "!chmod -x kv_to_json_array.sh"
   ]
  },
  {
   "cell_type": "code",
   "execution_count": 193,
   "id": "bed96ad4",
   "metadata": {},
   "outputs": [
    {
     "name": "stdout",
     "output_type": "stream",
     "text": [
      "{\n",
      "\"4\": \"KsjY8r\", \n",
      "\"6\": \"Le\", \n",
      "\"VmV\": \"jcp\", \n",
      "\"svQ4\": \"4yvL\", \n",
      "\"ju\": \"SI\", \n",
      "\"VRXqHu\": \"e\", \n",
      "\"mGxgE\": \"H\", \n",
      "\"zeEKr\": \"Lk4vXwY\", \n",
      "\"T\": \"LHzXEGSg\", \n",
      "\"ZfLKJSy\": \"E0ym\""
     ]
    },
    {
     "name": "stdout",
     "output_type": "stream",
     "text": [
      ", \n",
      "\"xBkjqB\": \"D\", \n",
      "\"uv\": \"BD\", \n",
      "\"QU\": \"0FG8yK0kD\", \n",
      "\"tJdYn\": \"JuGmw5OgY\", \n",
      "\"NZDBITzfEr\": \"R1G\", \n",
      "\"StiEvGePf\": \"BEDt8qraDr\", \n",
      "\"IbJhhMPiZ\": \"fjdKlBtjb1\", \n",
      "\"GKilydD\": \"Y4U\", \n",
      "\"hWQa4Rrz\": \"LYr\", \n",
      "\"jnh2ZiXT\": \"JxUENBDt\", \n",
      "\"18oGCz5U\": \"vScug9T0f\", \n",
      "\"fHOLs\": \"rs7rS3\", \n",
      "\"e\": \"rxBI\", \n",
      "\"BICcb8\": \"aqIOzBju2\", \n",
      "\"Al\": \"4P\", \n",
      "\"9CihN\": \"UTolyHV\", \n",
      "\"q0QJd\": \"no4L2SOKIS\", \n",
      "\"gqTkn\": \"lBS\", \n",
      "\"LiSf\": \"Z934KlvjeH\", \n",
      "\"IbYVilerjl\": \"8ftJysN0Bw\", \n",
      "\"xDhqK\": \"5Pmkb0a\", \n",
      "\"IxZAiCU\": \"FrWkvzHzbr\", \n",
      "\"3fppgD77S\": \"cx\", \n",
      "\"5TPFy74\": \"t0eaFRk\", \n",
      "\"LhqgyZp\": \"1xsoRX8Xx\", \n",
      "\"n\": \"KN\", \n",
      "\"DKPC3mblBc\": \"Er4F\", \n",
      "\"iY\": \"t17\", \n",
      "\"Ae7RTh\": \"0fo\", \n",
      "\"yXiIHER\": \"nlJ6wwI7lR\", \n",
      "\"k9maI2J\": \"IkZfYhM4\", \n",
      "\"k2Tu\": \"fGDSCX48\", \n",
      "\"lV8VbLcGWP\": \"hh1s\", \n",
      "\"K\": \"1thiSTJ51R\", \n",
      "\"z4J4CFVjG\": \"nshWan5m35\", \n",
      "\"H4V1NK40b\": \"izfVBSpg\", \n",
      "\"W\": \"iv1CT6RR7z\", \n",
      "\"zOt21TrAp\": \"5jf3\", \n",
      "\"SKvm\": \"aez\", \n",
      "\"imRFZOd\": \"zNsaYF\", \n",
      "\"7ZXDN9u\": \"AXOz\", \n",
      "\"ATTf1U\": \"uVK\", \n",
      "\"23mDj1ODV\": \"CLb\", \n",
      "\"x6OHZ\": \"k\", \n",
      "\"0SO0E\": \"v\", \n",
      "\"piZy\": \"nLyQ\", \n",
      "\"trAQv\": \"2Fr\", \n",
      "\"VoYAOrWp2W\": \"KnWago\", \n",
      "\"655UZJ\": \"Jmvsj3YZ\", \n",
      "\"8u5FEq9\": \"9bnX\", \n",
      "\"wIN\": \"GjZxb5cmVc\", \n",
      "\"N2Z26Vydt\": \"pUCdeYzr5\", \n",
      "\"SzORFOG\": \"SbH\", \n",
      "\"j2Zx0bN\": \"3f\", \n",
      "\"I\": \"9VaKdmU6Ny\", \n",
      "\"mN189B9T2O\": \"jn\", \n",
      "\"kOnlcXrwF4\": \"2q66WuZs\", \n",
      "\"kJEB\": \"gEm6wWXc\", \n",
      "\"Si\": \"MYXXph\", \n",
      "\"Mhtu8NpnTv\": \"EFM2PYD62\", \n",
      "\"mgNNNr\": \"FUiV\", \n",
      "\"YuqoieyhS\": \"ZR24m\", \n",
      "\"6NMC\": \"Z8iJIS\", \n",
      "\"Z2\": \"V9LfJPtNAH\", \n",
      "\"Aa5FF\": \"2R7Wr5SngU\", \n",
      "\"hv0s22lL\": \"BMzdGXhSeN\", \n",
      "\"KIlRYdq8l\": \"Go1iYx\", \n",
      "\"KaR5NU7\": \"7\", \n",
      "\"fdws4P\": \"OjVBVE\", \n",
      "\"RHcXoAlf\": \"sOxG\", \n",
      "\"VYhQpr0e1\": \"cg6K47\", \n",
      "\"G\": \"VNmzyaL\", \n",
      "\"Tq5pOruZN\": \"56g44\", \n",
      "\"yIIejLl\": \"nnrZ\", \n",
      "\"e7FoSTh\": \"aJE15QG8N\", \n",
      "\"6TO\": \"GC\", \n",
      "\"7LsV\": \"G8unBSd\", \n",
      "\"BAZe\": \"BnB0\", \n",
      "\"Z7\": \"afv\", \n",
      "\"Si6sG\": \"oW\", \n",
      "\"4SXieL\": \"DpD7G2dhJk\", \n",
      "\"kCpR5oM43\": \"M\", \n",
      "\"LKUB\": \"jhzcYXRHSS\", \n",
      "\"RPJDHMP1bj\": \"3wA8l\", \n",
      "\"mibkHJL\": \"n1D3Z3D\", \n",
      "\"eNi0xWqte\": \"U41P6\", \n",
      "\"HEMTJQYzoD\": \"JOvF3\", \n",
      "\"r01Ke\": \"5NramrG9ny\"\n",
      "}\n"
     ]
    }
   ],
   "source": [
    "!./kv_to_json_array.sh \"/mnt/c/Users/vikas/Downloads/q-multi-cursor-json (1).txt\""
   ]
  },
  {
   "cell_type": "code",
   "execution_count": 194,
   "id": "0fb47144",
   "metadata": {},
   "outputs": [
    {
     "name": "stdout",
     "output_type": "stream",
     "text": [
      "data1.csv  data2.csv  data3.txt\n"
     ]
    }
   ],
   "source": [
    "!ls \"/mnt/c/Users/vikas/Downloads/encode\""
   ]
  },
  {
   "cell_type": "code",
   "execution_count": 195,
   "id": "c870aba8",
   "metadata": {},
   "outputs": [],
   "source": [
    "fp1 = \"/mnt/c/Users/vikas/Downloads/encode/data1.csv\"\n",
    "fp2 = \"/mnt/c/Users/vikas/Downloads/encode/data2.csv\"\n",
    "fp3 = \"/mnt/c/Users/vikas/Downloads/encode/data3.txt\""
   ]
  },
  {
   "cell_type": "code",
   "execution_count": null,
   "id": "6a7ea12d",
   "metadata": {},
   "outputs": [
    {
     "data": {
      "text/plain": [
       "'symbol\\tvalue\\n™\\t0\\nš\\t1\\n—\\t2\\nž\\t3\\n‚\\t4\\nž\\t5\\n’\\t6\\n–\\t7\\n•\\t8\\n‹\\t9\\n›\\t10\\nœ\\t11\\n•\\t12\\nŽ\\t13\\n‚\\t14\\nˆ\\t15\\n”\\t16\\nž\\t17\\n•\\t18\\nŠ\\t19\\n”\\t20\\nœ\\t21\\n›\\t22\\nœ\\t23\\nœ\\t24\\nƒ\\t25\\n€\\t26\\n‡\\t27\\n›\\t28\\n™\\t29\\nš\\t30\\n‹\\t31\\n›\\t32\\n†\\t33\\nƒ\\t34\\n‹\\t35\\n—\\t36\\n“\\t37\\nŠ\\t38\\n‰\\t39\\n‚\\t40\\n‘\\t41\\nƒ\\t42\\nœ\\t43\\n”\\t44\\nŸ\\t45\\nŽ\\t46\\n–\\t47\\n“\\t48\\nž\\t49\\nŒ\\t50\\n„\\t51\\n•\\t52\\nŒ\\t53\\n’\\t54\\nœ\\t55\\n†\\t56\\n›\\t57\\n˜\\t58\\nš\\t59\\n”\\t60\\n”\\t61\\n”\\t62\\n”\\t63\\nœ\\t64\\nŸ\\t65\\n“\\t66\\nƒ\\t67\\nž\\t68\\n›\\t69\\n˜\\t70\\n–\\t71\\n†\\t72\\n•\\t73\\n•\\t74\\nƒ\\t75\\nƒ\\t76\\nŽ\\t77\\n˜\\t78\\n”\\t79\\nœ\\t80\\n€\\t81\\n‘\\t82\\n…\\t83\\nˆ\\t84\\n”\\t85\\n‹\\t86\\n‘\\t87\\n“\\t88\\nš\\t89\\n™\\t90\\n‹\\t91\\nƒ\\t92\\n˜\\t93\\n‘\\t94\\n’\\t95\\nŒ\\t96\\n—\\t97\\n•\\t98\\n‰\\t99\\nŽ\\t100\\n™\\t101\\n‚\\t102\\n•\\t103\\nŠ\\t104\\n•\\t105\\n“\\t106\\n…\\t107\\nž\\t108\\n‡\\t109\\nŒ\\t110\\nŒ\\t111\\n’\\t112\\nˆ\\t113\\nŠ\\t114\\nˆ\\t115\\n–\\t116\\nƒ\\t117\\n”\\t118\\n˜\\t119\\n…\\t120\\n…\\t121\\n•\\t122\\n–\\t123\\n•\\t124\\nŠ\\t125\\nˆ\\t126\\n•\\t127\\n„\\t128\\n‚\\t129\\n‡\\t130\\n—\\t131\\n‚\\t132\\n…\\t133\\nž\\t134\\n˜\\t135\\n›\\t136\\nš\\t137\\nŒ\\t138\\nž\\t139\\n…\\t140\\n‰\\t141\\n˜\\t142\\n„\\t143\\n—\\t144\\nž\\t145\\n›\\t146\\n’\\t147\\n“\\t148\\n’\\t149\\n—\\t150\\n‹\\t151\\nŒ\\t152\\nŸ\\t153\\nŠ\\t154\\n—\\t155\\n„\\t156\\n‡\\t157\\nŒ\\t158\\n€\\t159\\n„\\t160\\nŸ\\t161\\n–\\t162\\nŸ\\t163\\n–\\t164\\n„\\t165\\nš\\t166\\nŠ\\t167\\n‹\\t168\\nœ\\t169\\nš\\t170\\n‡\\t171\\n‡\\t172\\n€\\t173\\n’\\t174\\n—\\t175\\n€\\t176\\n–\\t177\\n–\\t178\\n–\\t179\\nŠ\\t180\\n’\\t181\\nˆ\\t182\\n‹\\t183\\n•\\t184\\n„\\t185\\n‘\\t186\\nš\\t187\\n…\\t188\\n•\\t189\\nœ\\t190\\nˆ\\t191\\n”\\t192\\n—\\t193\\n›\\t194\\n›\\t195\\n™\\t196\\n‹\\t197\\n†\\t198\\n‡\\t199\\n•\\t200\\n˜\\t201\\n“\\t202\\n‰\\t203\\nƒ\\t204\\nŸ\\t205\\n‘\\t206\\n˜\\t207\\n’\\t208\\nš\\t209\\n€\\t210\\n„\\t211\\nš\\t212\\n‡\\t213\\n‘\\t214\\nŸ\\t215\\nŠ\\t216\\nŸ\\t217\\n‘\\t218\\nŸ\\t219\\n€\\t220\\n”\\t221\\n‘\\t222\\n•\\t223\\n™\\t224\\nˆ\\t225\\n—\\t226\\n™\\t227\\nŽ\\t228\\nŽ\\t229\\nˆ\\t230\\nŸ\\t231\\n„\\t232\\n€\\t233\\n”\\t234\\n†\\t235\\n‚\\t236\\nŠ\\t237\\n†\\t238\\n…\\t239\\nƒ\\t240\\n’\\t241\\n„\\t242\\n‹\\t243\\n†\\t244\\n•\\t245\\nš\\t246\\nŒ\\t247\\n›\\t248\\n†\\t249\\n…\\t250\\n›\\t251\\n’\\t252\\n–\\t253\\n‹\\t254\\n•\\t255\\nŠ\\t256\\n™\\t257\\n˜\\t258\\n‹\\t259\\n“\\t260\\n™\\t261\\n›\\t262\\nŒ\\t263\\n›\\t264\\nŠ\\t265\\nŠ\\t266\\n•\\t267\\n“\\t268\\n–\\t269\\n•\\t270\\n‘\\t271\\n’\\t272\\n€\\t273\\nƒ\\t274\\n™\\t275\\n‰\\t276\\n†\\t277\\nŒ\\t278\\n…\\t279\\n‹\\t280\\n–\\t281\\n‡\\t282\\n‘\\t283\\n›\\t284\\nœ\\t285\\nž\\t286\\nŽ\\t287\\n•\\t288\\n†\\t289\\n›\\t290\\n—\\t291\\n“\\t292\\nŸ\\t293\\n€\\t294\\nƒ\\t295\\n—\\t296\\n”\\t297\\n‘\\t298\\nŒ\\t299\\nŒ\\t300\\n‹\\t301\\n–\\t302\\n’\\t303\\nŽ\\t304\\n—\\t305\\nŸ\\t306\\n˜\\t307\\n‡\\t308\\n„\\t309\\nŸ\\t310\\nœ\\t311\\nž\\t312\\n„\\t313\\n•\\t314\\nŽ\\t315\\n›\\t316\\n›\\t317\\n‰\\t318\\n“\\t319\\nˆ\\t320\\n‰\\t321\\n‹\\t322\\n‹\\t323\\nˆ\\t324\\n’\\t325\\n›\\t326\\nŸ\\t327\\nŒ\\t328\\n†\\t329\\n‰\\t330\\nŒ\\t331\\nš\\t332\\n†\\t333\\n‹\\t334\\n“\\t335\\n”\\t336\\n–\\t337\\n˜\\t338\\n’\\t339\\n™\\t340\\n—\\t341\\nŸ\\t342\\n‹\\t343\\n‘\\t344\\n”\\t345\\nœ\\t346\\n…\\t347\\nš\\t348\\nŒ\\t349\\n‚\\t350\\n“\\t351\\n‚\\t352\\nˆ\\t353\\n–\\t354\\n›\\t355\\n‡\\t356\\n…\\t357\\n„\\t358\\n†\\t359\\n–\\t360\\n‘\\t361\\n‡\\t362\\n–\\t363\\n‚\\t364\\nŒ\\t365\\nŸ\\t366\\n‚\\t367\\n˜\\t368\\n˜\\t369\\n“\\t370\\n‹\\t371\\nŽ\\t372\\n‰\\t373\\n—\\t374\\nˆ\\t375\\n•\\t376\\n’\\t377\\n„\\t378\\nŽ\\t379\\nƒ\\t380\\n–\\t381\\n€\\t382\\nš\\t383\\nŽ\\t384\\n‰\\t385\\n’\\t386\\n‰\\t387\\nƒ\\t388\\nœ\\t389\\nž\\t390\\n…\\t391\\n˜\\t392\\n‰\\t393\\n‘\\t394\\nŒ\\t395\\n˜\\t396\\n‡\\t397\\n•\\t398\\nš\\t399\\n‹\\t400\\n‚\\t401\\nœ\\t402\\n’\\t403\\n“\\t404\\n‘\\t405\\n‘\\t406\\n•\\t407\\nŽ\\t408\\n„\\t409\\n‘\\t410\\nž\\t411\\nˆ\\t412\\n“\\t413\\nŠ\\t414\\n”\\t415\\n‹\\t416\\nž\\t417\\n‘\\t418\\n‚\\t419\\n‘\\t420\\nž\\t421\\nˆ\\t422\\n–\\t423\\n‘\\t424\\nŠ\\t425\\nž\\t426\\nŸ\\t427\\n›\\t428\\n†\\t429\\n“\\t430\\n–\\t431\\n€\\t432\\n„\\t433\\nž\\t434\\n†\\t435\\nŸ\\t436\\n€\\t437\\nœ\\t438\\n›\\t439\\nŽ\\t440\\n€\\t441\\n‡\\t442\\n„\\t443\\n‹\\t444\\nœ\\t445\\n€\\t446\\n€\\t447\\n˜\\t448\\nŒ\\t449\\nŽ\\t450\\n…\\t451\\n˜\\t452\\nŽ\\t453\\n†\\t454\\nŽ\\t455\\n’\\t456\\n›\\t457\\n…\\t458\\nƒ\\t459\\nŠ\\t460\\nš\\t461\\n€\\t462\\n”\\t463\\nˆ\\t464\\n€\\t465\\nœ\\t466\\n”\\t467\\nŠ\\t468\\n•\\t469\\nŠ\\t470\\n‘\\t471\\nž\\t472\\nŽ\\t473\\nŠ\\t474\\nŒ\\t475\\n—\\t476\\n•\\t477\\n–\\t478\\n„\\t479\\n•\\t480\\nž\\t481\\nŸ\\t482\\n˜\\t483\\nŠ\\t484\\n”\\t485\\n—\\t486\\nˆ\\t487\\nœ\\t488\\nŒ\\t489\\n…\\t490\\n”\\t491\\n˜\\t492\\n‰\\t493\\n“\\t494\\n„\\t495\\n—\\t496\\n•\\t497\\nŽ\\t498\\n‰\\t499'"
      ]
     },
     "execution_count": 197,
     "metadata": {},
     "output_type": "execute_result"
    }
   ],
   "source": [
    "with open(fp3, encoding = \"utf-16\") as f:\n",
    "    data3 = f.read()\n",
    "\n",
    "data3"
   ]
  },
  {
   "cell_type": "code",
   "execution_count": 202,
   "id": "5fd1b147",
   "metadata": {},
   "outputs": [],
   "source": [
    "dfa = pd.read_csv(fp3, sep = \"\\t\", encoding = \"utf-16\")\n",
    "dfb = pd.read_csv(fp1, encoding = \"CP1252\")\n",
    "dfc = pd.read_csv(fp2, encoding = \"UTF-8\")"
   ]
  },
  {
   "cell_type": "code",
   "execution_count": null,
   "id": "a41b0f47",
   "metadata": {},
   "outputs": [
    {
     "data": {
      "text/plain": [
       "np.int64(37240)"
      ]
     },
     "execution_count": 213,
     "metadata": {},
     "output_type": "execute_result"
    }
   ],
   "source": [
    "dfx = pd.concat([dfa, dfb, dfc], ignore_index = True)\n",
    "dfx[dfx[\"symbol\"].isin([\"ˆ\",\"‚\",\"‰\"])][\"value\"].sum()"
   ]
  }
 ],
 "metadata": {
  "kernelspec": {
   "display_name": "tdsenv",
   "language": "python",
   "name": "python3"
  },
  "language_info": {
   "codemirror_mode": {
    "name": "ipython",
    "version": 3
   },
   "file_extension": ".py",
   "mimetype": "text/x-python",
   "name": "python",
   "nbconvert_exporter": "python",
   "pygments_lexer": "ipython3",
   "version": "3.12.3"
  }
 },
 "nbformat": 4,
 "nbformat_minor": 5
}
